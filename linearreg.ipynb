{
 "cells": [
  {
   "cell_type": "code",
   "execution_count": 1,
   "id": "745bc76e",
   "metadata": {},
   "outputs": [
    {
     "name": "stdout",
     "output_type": "stream",
     "text": [
      "10\n"
     ]
    }
   ],
   "source": [
    "a=10\n",
    "print(a)"
   ]
  },
  {
   "cell_type": "code",
   "execution_count": 2,
   "id": "71c6505e",
   "metadata": {},
   "outputs": [],
   "source": [
    "class car:\n",
    "    def __init__(self, make, model, year):\n",
    "       self.make=make\n",
    "       self.model=model\n",
    "       self.year=year\n",
    "\n",
    "## Test\n",
    "## car=car('tata',2002)\n",
    "## print(car.make,car.model,car.year)\n",
    "\n",
    "\n"
   ]
  },
  {
   "cell_type": "code",
   "execution_count": 4,
   "id": "48e3a67e",
   "metadata": {},
   "outputs": [],
   "source": [
    "class Car:\n",
    "    def __init__(self, make, model, year):\n",
    "        self.make = make\n",
    "        self.model = model\n",
    "        self.year = year\n",
    "\n",
    "# Test\n",
    "# car = Car('Toyota', 'Camry', 2020)\n",
    "# print(car.make, car.model, car.year)"
   ]
  },
  {
   "cell_type": "code",
   "execution_count": 1,
   "id": "f6e5dd0a",
   "metadata": {},
   "outputs": [
    {
     "ename": "SyntaxError",
     "evalue": "expected '(' (2886452234.py, line 7)",
     "output_type": "error",
     "traceback": [
      "\u001b[1;36m  Cell \u001b[1;32mIn[1], line 7\u001b[1;36m\u001b[0m\n\u001b[1;33m    def start_\u001b[0m\n\u001b[1;37m                  ^\u001b[0m\n\u001b[1;31mSyntaxError\u001b[0m\u001b[1;31m:\u001b[0m expected '('\n"
     ]
    }
   ],
   "source": [
    "class car:\n",
    "    def __init__(self,make,model,car):\n",
    "        self.make=make\n",
    "        self.model=model\n",
    "        self.year=year\n",
    "\n",
    "    def start_    \n",
    "    "
   ]
  },
  {
   "cell_type": "code",
   "execution_count": 3,
   "id": "e0e7913c",
   "metadata": {},
   "outputs": [],
   "source": [
    "class Car:\n",
    "    def __init__(self, make, model, year):\n",
    "        self.make = make\n",
    "        self.model = model\n",
    "        self.year = year\n",
    "\n",
    "    def start_engine(self):\n",
    "        print(\"The engine has started.\")\n",
    "\n",
    "# Test\n",
    "# car = Car('Toyota', 'Camry', 2020)\n",
    "# car.start_engine()"
   ]
  },
  {
   "cell_type": "code",
   "execution_count": 4,
   "id": "e3d02dd4",
   "metadata": {},
   "outputs": [],
   "source": [
    "class Car:\n",
    "    def __init__(self, make, model, year):\n",
    "        self.make = make\n",
    "        self.model = model\n",
    "        self.year = year\n",
    "\n",
    "    def start_engine(self):\n",
    "        print(\"The engine has started.\")\n",
    "\n",
    "# Test\n",
    "# car = Car('Toyota', 'Camry', 2020)\n",
    "# car.start_engine()"
   ]
  },
  {
   "cell_type": "code",
   "execution_count": 7,
   "id": "71dc30bb",
   "metadata": {},
   "outputs": [],
   "source": [
    "class student:\n",
    "    def __init__(self,name,age):\n",
    "        self.name=name\n",
    "        self.age=age  "
   ]
  },
  {
   "cell_type": "code",
   "execution_count": 11,
   "id": "c0e2f7d7",
   "metadata": {},
   "outputs": [],
   "source": [
    "class BankAccount:\n",
    "    def __init__(self,account_number,balance):\n",
    "       self.__account_number=account_number\n",
    "       self.__balance=balance\n",
    "def deposit(self,amount):\n",
    "    self.__balance+=amount\n",
    "\n",
    "def withdraw(self,amount):\n",
    "    if amount>self.__balance:\n",
    "        print(\"insufficient balance\")\n",
    "    else:\n",
    "        self.__balance-=amount\n",
    "def check_balance(self):\n",
    "    return self.__balance                       "
   ]
  },
  {
   "cell_type": "code",
   "execution_count": 12,
   "id": "0bd060e8",
   "metadata": {},
   "outputs": [],
   "source": [
    "class Person:\n",
    "    def __init__(self, name, age):\n",
    "        self.name = name\n",
    "        self.age = age\n",
    "\n",
    "class Employee(Person):\n",
    "    def __init__(self, name, age, employee_id):\n",
    "        self.name=name\n",
    "        self.age=age\n",
    "        self.employee_id = employee_id"
   ]
  },
  {
   "cell_type": "code",
   "execution_count": 13,
   "id": "f6fa22ce",
   "metadata": {},
   "outputs": [],
   "source": [
    "class Employee(Person):\n",
    "    def __init__(self, name, age, employee_id):\n",
    "        super().__init__(name, age)\n",
    "        self.employee_id = employee_id\n",
    "\n",
    "    def __str__(self):\n",
    "        return f\"Employee(Name: {self.name}, Age: {self.age}, Employee ID: {self.employee_id})\"\n",
    "\n",
    "# Test\n",
    "# employee = Employee('Alice', 30, 'E123')\n",
    "# print(employee)"
   ]
  },
  {
   "cell_type": "code",
   "execution_count": 14,
   "id": "8cda659d",
   "metadata": {},
   "outputs": [],
   "source": [
    "class Address:\n",
    "    def __init__(self, street, city, zipcode):\n",
    "        self.street = street\n",
    "        self.city = city\n",
    "        self.zipcode = zipcode\n",
    "\n",
    "class Person:\n",
    "    def __init__(self, name, age, address):\n",
    "        self.name = name\n",
    "        self.age = age\n",
    "        self.address = address\n",
    "\n",
    "# Test\n",
    "# address = Address('123 Main St', 'New York', '10001')\n",
    "# person = Person('John', 25, address)\n",
    "# print(person.address.street, person.address.city, person.address.zipcode)"
   ]
  },
  {
   "cell_type": "code",
   "execution_count": 15,
   "id": "3d7be0a1",
   "metadata": {},
   "outputs": [],
   "source": [
    "class counter:\n",
    "    count = 0\n",
    "\n",
    "def __init_(self):\n",
    "    Counter.count +=1\n",
    "\n",
    "@classmethod\n",
    "def get_count(cls):\n",
    "    return cls.count\n",
    "        \n",
    "\n",
    "        "
   ]
  },
  {
   "cell_type": "code",
   "execution_count": 20,
   "id": "3dd624f2",
   "metadata": {},
   "outputs": [],
   "source": [
    "import math\n",
    "class MathOperation:\n",
    "    @staticmethod\n",
    "    def sqrt(x):\n",
    "        return math.sqrt(x)"
   ]
  },
  {
   "cell_type": "code",
   "execution_count": null,
   "id": "82564f2f",
   "metadata": {},
   "outputs": [],
   "source": [
    "class Rectangle:\n",
    "    def __init__(self, length, width):\n",
    "        self.__length = length\n",
    "        self.__width = width\n",
    "\n",
    "    @property\n",
    "    def length(self):\n",
    "        return self.__length\n",
    "\n",
    "    @length.setter\n",
    "    def length(self, length):\n",
    "        self.__length = length\n",
    "\n",
    "    @property\n",
    "    def width(self):\n",
    "        return self.__width\n",
    "\n",
    "    @width.setter\n",
    "    def width(self, width):\n",
    "        self.__width = width\n",
    "\n",
    "# Test\n",
    "# rect = Rectangle(10, 5)\n",
    "# print(rect.length, rect.width)  # 10 5\n",
    "# rect.length = 15\n",
    "# rect.width = 7\n",
    "# print(rect.length, rect.width)  # 15 7"
   ]
  }
 ],
 "metadata": {
  "kernelspec": {
   "display_name": "base",
   "language": "python",
   "name": "python3"
  },
  "language_info": {
   "codemirror_mode": {
    "name": "ipython",
    "version": 3
   },
   "file_extension": ".py",
   "mimetype": "text/x-python",
   "name": "python",
   "nbconvert_exporter": "python",
   "pygments_lexer": "ipython3",
   "version": "3.12.7"
  }
 },
 "nbformat": 4,
 "nbformat_minor": 5
}
